{
 "cells": [
  {
   "cell_type": "code",
   "execution_count": 58,
   "metadata": {},
   "outputs": [],
   "source": [
    "import urllib.request\n",
    "from bs4 import BeautifulSoup\n",
    "import xlwings as xw\n",
    "import time"
   ]
  },
  {
   "cell_type": "code",
   "execution_count": 71,
   "metadata": {},
   "outputs": [],
   "source": [
    "'''wiki = \"https://www.gsmarena.com/oneplus_5t-8912.php\"\n",
    "page = urllib.request.urlopen(wiki)\n",
    "soup = BeautifulSoup(page)\n",
    "#print(soup.prettify())\n",
    "#print(soup.tr) # will print the first tr'''\n",
    "\n",
    "mobile_book = xw.Book(r'C:\\Users\\karan.verma\\Desktop\\Mobile & Device Catalogue Export.xlsx')\n",
    "sheet = mobile_book.sheets[\"Details\"]\n",
    "link_sheet = mobile_book.sheets[\"On GSM\"]\n",
    "i=1\n",
    "\n",
    "rng = link_sheet.range(\"C1\").end('down').row\n",
    "\n",
    "for x in range(1, rng+1):\n",
    "    gsm_page = link_sheet.range(\"C\" + str(x)).value\n",
    "    page = urllib.request.urlopen(gsm_page)\n",
    "    soup = BeautifulSoup(page)\n",
    "    \n",
    "    all_tr = soup.find_all(\"td\", class_='nfo')\n",
    "    link_sheet.activate()\n",
    "    sheet.range(1, x).value = link_sheet.range(x, 2).value\n",
    "    for tr in all_tr:\n",
    "        sheet.activate()\n",
    "        i += 1\n",
    "        depth = BeautifulSoup(str(tr))\n",
    "        try:\n",
    "            depth.td['data-spec']\n",
    "            val = str(depth.td['data-spec'] + \" --> \" + str(tr.find(text=True)))\n",
    "            sheet.range(i, x).value = val\n",
    "        except KeyError as e:\n",
    "            if depth.find_all(\"a\", class_='noUnd'):\n",
    "                for stuff in depth.find_all(\"a\", class_='noUnd'):\n",
    "                    val = str(stuff.find(text=True))\n",
    "                    sheet.range(i, x).value = val\n",
    "            else:\n",
    "                val = str(\"data-spec does not exist here\" + \" --> \" + str(tr.find(text=True)))\n",
    "                sheet.range(i, x).value = val\n",
    "    \n",
    "    time.sleep(5)\n",
    "    i=1"
   ]
  }
 ],
 "metadata": {
  "kernelspec": {
   "display_name": "Python 3",
   "language": "python",
   "name": "python3"
  },
  "language_info": {
   "codemirror_mode": {
    "name": "ipython",
    "version": 3
   },
   "file_extension": ".py",
   "mimetype": "text/x-python",
   "name": "python",
   "nbconvert_exporter": "python",
   "pygments_lexer": "ipython3",
   "version": "3.7.2"
  }
 },
 "nbformat": 4,
 "nbformat_minor": 2
}
